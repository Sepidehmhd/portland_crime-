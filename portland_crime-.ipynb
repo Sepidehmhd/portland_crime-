{
 "cells": [
  {
   "cell_type": "markdown",
   "metadata": {},
   "source": [
    "# Portland Crime "
   ]
  },
  {
   "cell_type": "markdown",
   "metadata": {},
   "source": [
    "<h2> Import packages and load and clean data <h2>"
   ]
  },
  {
   "cell_type": "code",
   "execution_count": 6,
   "metadata": {},
   "outputs": [
    {
     "ename": "ModuleNotFoundError",
     "evalue": "No module named 'matplotlib'",
     "output_type": "error",
     "traceback": [
      "\u001b[0;31m---------------------------------------------------------------------------\u001b[0m",
      "\u001b[0;31mModuleNotFoundError\u001b[0m                       Traceback (most recent call last)",
      "\u001b[0;32m<ipython-input-6-38b906e07e41>\u001b[0m in \u001b[0;36m<module>\u001b[0;34m\u001b[0m\n\u001b[1;32m      1\u001b[0m \u001b[0;32mimport\u001b[0m \u001b[0mpandas\u001b[0m \u001b[0;32mas\u001b[0m \u001b[0mpd\u001b[0m\u001b[0;34m\u001b[0m\u001b[0;34m\u001b[0m\u001b[0m\n\u001b[1;32m      2\u001b[0m \u001b[0;32mimport\u001b[0m \u001b[0mos\u001b[0m\u001b[0;34m\u001b[0m\u001b[0;34m\u001b[0m\u001b[0m\n\u001b[0;32m----> 3\u001b[0;31m \u001b[0;32mimport\u001b[0m \u001b[0mmatplotlib\u001b[0m\u001b[0;34m.\u001b[0m\u001b[0mpyplot\u001b[0m \u001b[0;32mas\u001b[0m \u001b[0mplt\u001b[0m\u001b[0;34m\u001b[0m\u001b[0;34m\u001b[0m\u001b[0m\n\u001b[0m",
      "\u001b[0;31mModuleNotFoundError\u001b[0m: No module named 'matplotlib'"
     ]
    }
   ],
   "source": [
    "import pandas as pd\n",
    "import os\n",
    "import matplotlib.pyplot as plt\n"
   ]
  },
  {
   "cell_type": "code",
   "execution_count": 4,
   "metadata": {},
   "outputs": [],
   "source": [
    "path = os.path.join(\"Resources\", \"CrimeData-2017.csv\")"
   ]
  },
  {
   "cell_type": "code",
   "execution_count": 4,
   "metadata": {},
   "outputs": [],
   "source": [
    "df = pd.read_csv(path)"
   ]
  },
  {
   "cell_type": "code",
   "execution_count": 3,
   "metadata": {},
   "outputs": [],
   "source": [
    "import sys\n"
   ]
  },
  {
   "cell_type": "code",
   "execution_count": 4,
   "metadata": {},
   "outputs": [
    {
     "data": {
      "text/html": [
       "<div>\n",
       "<style scoped>\n",
       "    .dataframe tbody tr th:only-of-type {\n",
       "        vertical-align: middle;\n",
       "    }\n",
       "\n",
       "    .dataframe tbody tr th {\n",
       "        vertical-align: top;\n",
       "    }\n",
       "\n",
       "    .dataframe thead th {\n",
       "        text-align: right;\n",
       "    }\n",
       "</style>\n",
       "<table border=\"1\" class=\"dataframe\">\n",
       "  <thead>\n",
       "    <tr style=\"text-align: right;\">\n",
       "      <th></th>\n",
       "      <th>Address</th>\n",
       "      <th>CaseNumber</th>\n",
       "      <th>CrimeAgainst</th>\n",
       "      <th>Neighborhood</th>\n",
       "      <th>OccurDate</th>\n",
       "      <th>OccurTime</th>\n",
       "      <th>OffenseCategory</th>\n",
       "      <th>OffenseType</th>\n",
       "      <th>OpenDataLat</th>\n",
       "      <th>OpenDataLon</th>\n",
       "      <th>OpenDataX</th>\n",
       "      <th>OpenDataY</th>\n",
       "      <th>ReportDate</th>\n",
       "      <th>OffenseCount</th>\n",
       "    </tr>\n",
       "  </thead>\n",
       "  <tbody>\n",
       "    <tr>\n",
       "      <th>0</th>\n",
       "      <td>NaN</td>\n",
       "      <td>17-X4744955</td>\n",
       "      <td>Person</td>\n",
       "      <td>Lents</td>\n",
       "      <td>2017-01-01</td>\n",
       "      <td>135</td>\n",
       "      <td>Assault Offenses</td>\n",
       "      <td>Simple Assault</td>\n",
       "      <td>NaN</td>\n",
       "      <td>NaN</td>\n",
       "      <td>NaN</td>\n",
       "      <td>NaN</td>\n",
       "      <td>2017-01-01</td>\n",
       "      <td>1</td>\n",
       "    </tr>\n",
       "    <tr>\n",
       "      <th>1</th>\n",
       "      <td>NaN</td>\n",
       "      <td>17-X4744962</td>\n",
       "      <td>Person</td>\n",
       "      <td>Lents</td>\n",
       "      <td>2017-01-01</td>\n",
       "      <td>147</td>\n",
       "      <td>Assault Offenses</td>\n",
       "      <td>Simple Assault</td>\n",
       "      <td>NaN</td>\n",
       "      <td>NaN</td>\n",
       "      <td>NaN</td>\n",
       "      <td>NaN</td>\n",
       "      <td>2017-01-01</td>\n",
       "      <td>1</td>\n",
       "    </tr>\n",
       "    <tr>\n",
       "      <th>2</th>\n",
       "      <td>NaN</td>\n",
       "      <td>17-X4744966</td>\n",
       "      <td>Person</td>\n",
       "      <td>Brentwood-Darlington</td>\n",
       "      <td>2017-01-01</td>\n",
       "      <td>218</td>\n",
       "      <td>Assault Offenses</td>\n",
       "      <td>Simple Assault</td>\n",
       "      <td>NaN</td>\n",
       "      <td>NaN</td>\n",
       "      <td>NaN</td>\n",
       "      <td>NaN</td>\n",
       "      <td>2017-01-01</td>\n",
       "      <td>1</td>\n",
       "    </tr>\n",
       "    <tr>\n",
       "      <th>3</th>\n",
       "      <td>NaN</td>\n",
       "      <td>17-X4744985</td>\n",
       "      <td>Person</td>\n",
       "      <td>St Johns</td>\n",
       "      <td>2017-01-01</td>\n",
       "      <td>55</td>\n",
       "      <td>Assault Offenses</td>\n",
       "      <td>Simple Assault</td>\n",
       "      <td>NaN</td>\n",
       "      <td>NaN</td>\n",
       "      <td>NaN</td>\n",
       "      <td>NaN</td>\n",
       "      <td>2017-01-01</td>\n",
       "      <td>1</td>\n",
       "    </tr>\n",
       "    <tr>\n",
       "      <th>4</th>\n",
       "      <td>NaN</td>\n",
       "      <td>17-X4744990</td>\n",
       "      <td>Person</td>\n",
       "      <td>Centennial</td>\n",
       "      <td>2017-01-01</td>\n",
       "      <td>220</td>\n",
       "      <td>Assault Offenses</td>\n",
       "      <td>Aggravated Assault</td>\n",
       "      <td>NaN</td>\n",
       "      <td>NaN</td>\n",
       "      <td>NaN</td>\n",
       "      <td>NaN</td>\n",
       "      <td>2017-01-01</td>\n",
       "      <td>1</td>\n",
       "    </tr>\n",
       "  </tbody>\n",
       "</table>\n",
       "</div>"
      ],
      "text/plain": [
       "  Address   CaseNumber CrimeAgainst          Neighborhood   OccurDate  \\\n",
       "0     NaN  17-X4744955       Person                 Lents  2017-01-01   \n",
       "1     NaN  17-X4744962       Person                 Lents  2017-01-01   \n",
       "2     NaN  17-X4744966       Person  Brentwood-Darlington  2017-01-01   \n",
       "3     NaN  17-X4744985       Person              St Johns  2017-01-01   \n",
       "4     NaN  17-X4744990       Person            Centennial  2017-01-01   \n",
       "\n",
       "   OccurTime   OffenseCategory         OffenseType  OpenDataLat  OpenDataLon  \\\n",
       "0        135  Assault Offenses      Simple Assault          NaN          NaN   \n",
       "1        147  Assault Offenses      Simple Assault          NaN          NaN   \n",
       "2        218  Assault Offenses      Simple Assault          NaN          NaN   \n",
       "3         55  Assault Offenses      Simple Assault          NaN          NaN   \n",
       "4        220  Assault Offenses  Aggravated Assault          NaN          NaN   \n",
       "\n",
       "   OpenDataX  OpenDataY  ReportDate  OffenseCount  \n",
       "0        NaN        NaN  2017-01-01             1  \n",
       "1        NaN        NaN  2017-01-01             1  \n",
       "2        NaN        NaN  2017-01-01             1  \n",
       "3        NaN        NaN  2017-01-01             1  \n",
       "4        NaN        NaN  2017-01-01             1  "
      ]
     },
     "execution_count": 4,
     "metadata": {},
     "output_type": "execute_result"
    }
   ],
   "source": [
    "df.head()"
   ]
  },
  {
   "cell_type": "code",
   "execution_count": 5,
   "metadata": {},
   "outputs": [
    {
     "data": {
      "text/plain": [
       "(59673, 14)"
      ]
     },
     "execution_count": 5,
     "metadata": {},
     "output_type": "execute_result"
    }
   ],
   "source": [
    "df.shape"
   ]
  },
  {
   "cell_type": "code",
   "execution_count": 6,
   "metadata": {},
   "outputs": [
    {
     "data": {
      "text/plain": [
       "Address            54397\n",
       "CaseNumber         59673\n",
       "CrimeAgainst       59673\n",
       "Neighborhood       57834\n",
       "OccurDate          59673\n",
       "OccurTime          59673\n",
       "OffenseCategory    59673\n",
       "OffenseType        59673\n",
       "OpenDataLat        53455\n",
       "OpenDataLon        53455\n",
       "OpenDataX          53455\n",
       "OpenDataY          53455\n",
       "ReportDate         59673\n",
       "OffenseCount       59673\n",
       "dtype: int64"
      ]
     },
     "execution_count": 6,
     "metadata": {},
     "output_type": "execute_result"
    }
   ],
   "source": [
    "df.count()"
   ]
  },
  {
   "cell_type": "code",
   "execution_count": 7,
   "metadata": {},
   "outputs": [
    {
     "data": {
      "text/plain": [
       "Index(['Address', 'CaseNumber', 'CrimeAgainst', 'Neighborhood', 'OccurDate',\n",
       "       'OccurTime', 'OffenseCategory', 'OffenseType', 'OpenDataLat',\n",
       "       'OpenDataLon', 'OpenDataX', 'OpenDataY', 'ReportDate', 'OffenseCount'],\n",
       "      dtype='object')"
      ]
     },
     "execution_count": 7,
     "metadata": {},
     "output_type": "execute_result"
    }
   ],
   "source": [
    "df.columns"
   ]
  },
  {
   "cell_type": "code",
   "execution_count": 8,
   "metadata": {},
   "outputs": [
    {
     "data": {
      "text/plain": [
       "0                 assult_offenses\n",
       "1                 assult_offenses\n",
       "2                 assult_offenses\n",
       "3                 assult_offenses\n",
       "4                 assult_offenses\n",
       "                   ...           \n",
       "59668                   Vandalism\n",
       "59669             assult_offenses\n",
       "59670    Stolen Property Offenses\n",
       "59671            Larceny Offenses\n",
       "59672            Larceny Offenses\n",
       "Name: OffenseCategory, Length: 59673, dtype: object"
      ]
     },
     "execution_count": 8,
     "metadata": {},
     "output_type": "execute_result"
    }
   ],
   "source": [
    "df[\"OffenseCategory\"]. replace({\"Sex Offenses\": \"sex_offenses\"})\n",
    "df[\"OffenseCategory\"].replace({\"Assault Offenses\": \"assult_offenses\"})"
   ]
  },
  {
   "cell_type": "code",
   "execution_count": 9,
   "metadata": {},
   "outputs": [],
   "source": [
    "#rename works on the columns name \n",
    "df = pd.read_csv(path).rename(columns = {\"Address\" : \"address\", \"CaseNumber\": \"case_number\" })"
   ]
  },
  {
   "cell_type": "code",
   "execution_count": 10,
   "metadata": {},
   "outputs": [
    {
     "data": {
      "text/plain": [
       "Index(['address', 'case_number', 'CrimeAgainst', 'Neighborhood', 'OccurDate',\n",
       "       'OccurTime', 'OffenseCategory', 'OffenseType', 'OpenDataLat',\n",
       "       'OpenDataLon', 'OpenDataX', 'OpenDataY', 'ReportDate', 'OffenseCount'],\n",
       "      dtype='object')"
      ]
     },
     "execution_count": 10,
     "metadata": {},
     "output_type": "execute_result"
    }
   ],
   "source": [
    "df.columns"
   ]
  },
  {
   "cell_type": "code",
   "execution_count": 11,
   "metadata": {},
   "outputs": [],
   "source": [
    "df = pd.read_csv(path). rename(columns=lambda s : s.lower().replace(\" \", \"_\"))"
   ]
  },
  {
   "cell_type": "code",
   "execution_count": 12,
   "metadata": {},
   "outputs": [
    {
     "data": {
      "text/plain": [
       "Index(['address', 'casenumber', 'crimeagainst', 'neighborhood', 'occurdate',\n",
       "       'occurtime', 'offensecategory', 'offensetype', 'opendatalat',\n",
       "       'opendatalon', 'opendatax', 'opendatay', 'reportdate', 'offensecount'],\n",
       "      dtype='object')"
      ]
     },
     "execution_count": 12,
     "metadata": {},
     "output_type": "execute_result"
    }
   ],
   "source": [
    "df.columns"
   ]
  },
  {
   "cell_type": "code",
   "execution_count": 13,
   "metadata": {},
   "outputs": [],
   "source": [
    "df = pd.read_csv(path)\\\n",
    "    .rename(columns = lambda s: s.lower().replace(\" \", \"_\"))\\\n",
    "    [[\n",
    "    'neighborhood', \n",
    "    'occurdate',\n",
    "    'occurtime',\n",
    "    'offensecategory',\n",
    "    'offensecount', \n",
    "    'offensetype',\n",
    "    'reportdate' \n",
    "    ]]\\\n",
    "    .dropna()\\\n",
    "    .assign(reportdate=pd.to_datetime(df['reportdate'], format=\"%Y-%m-%d\"))"
   ]
  },
  {
   "cell_type": "code",
   "execution_count": 14,
   "metadata": {},
   "outputs": [
    {
     "data": {
      "text/plain": [
       "(57834, 7)"
      ]
     },
     "execution_count": 14,
     "metadata": {},
     "output_type": "execute_result"
    }
   ],
   "source": [
    "df.shape     \n",
    "                             "
   ]
  },
  {
   "cell_type": "code",
   "execution_count": 15,
   "metadata": {},
   "outputs": [
    {
     "data": {
      "text/plain": [
       "(57834, 7)"
      ]
     },
     "execution_count": 15,
     "metadata": {},
     "output_type": "execute_result"
    }
   ],
   "source": [
    "df.dropna().shape"
   ]
  },
  {
   "cell_type": "code",
   "execution_count": 16,
   "metadata": {},
   "outputs": [
    {
     "data": {
      "text/plain": [
       "neighborhood       57834\n",
       "occurdate          57834\n",
       "occurtime          57834\n",
       "offensecategory    57834\n",
       "offensecount       57834\n",
       "offensetype        57834\n",
       "reportdate         57834\n",
       "dtype: int64"
      ]
     },
     "execution_count": 16,
     "metadata": {},
     "output_type": "execute_result"
    }
   ],
   "source": [
    "df.count()"
   ]
  },
  {
   "cell_type": "code",
   "execution_count": 17,
   "metadata": {},
   "outputs": [
    {
     "data": {
      "text/plain": [
       "Index(['neighborhood', 'occurdate', 'occurtime', 'offensecategory',\n",
       "       'offensecount', 'offensetype', 'reportdate'],\n",
       "      dtype='object')"
      ]
     },
     "execution_count": 17,
     "metadata": {},
     "output_type": "execute_result"
    }
   ],
   "source": [
    "df.columns                          "
   ]
  },
  {
   "cell_type": "code",
   "execution_count": 18,
   "metadata": {},
   "outputs": [
    {
     "data": {
      "text/plain": [
       "Downtown               3926\n",
       "Hazelwood              3763\n",
       "Lents                  2182\n",
       "Powellhurst-Gilbert    2171\n",
       "Old Town/Chinatown     2028\n",
       "                       ... \n",
       "Markham                  31\n",
       "Woodland Park            23\n",
       "Crestwood                19\n",
       "Marshall Park             9\n",
       "Healy Heights             5\n",
       "Name: neighborhood, Length: 96, dtype: int64"
      ]
     },
     "execution_count": 18,
     "metadata": {},
     "output_type": "execute_result"
    }
   ],
   "source": [
    "df[\"neighborhood\"].value_counts()"
   ]
  },
  {
   "cell_type": "code",
   "execution_count": 19,
   "metadata": {},
   "outputs": [
    {
     "data": {
      "text/plain": [
       "Larceny Offenses                24347\n",
       "Assault Offenses                 7274\n",
       "Motor Vehicle Theft              7213\n",
       "Vandalism                        6177\n",
       "Burglary                         4347\n",
       "Fraud Offenses                   3090\n",
       "Drug/Narcotic Offenses           1674\n",
       "Robbery                          1035\n",
       "Counterfeiting/Forgery            720\n",
       "Sex Offenses                      576\n",
       "Weapon Law Violations             448\n",
       "Arson                             306\n",
       "Prostitution Offenses             211\n",
       "Embezzlement                      127\n",
       "Stolen Property Offenses           85\n",
       "Kidnapping/Abduction               73\n",
       "Homicide Offenses                  23\n",
       "Extortion/Blackmail                22\n",
       "Animal Cruelty Offenses            22\n",
       "Sex Offenses, Nonforcible          22\n",
       "Pornography/Obscene Material       21\n",
       "Human Trafficking Offenses         21\n",
       "Name: offensecategory, dtype: int64"
      ]
     },
     "execution_count": 19,
     "metadata": {},
     "output_type": "execute_result"
    }
   ],
   "source": [
    "#the count of offense for each type of category \n",
    "df[\"offensecategory\"].value_counts()"
   ]
  },
  {
   "cell_type": "code",
   "execution_count": 20,
   "metadata": {},
   "outputs": [
    {
     "data": {
      "text/plain": [
       "Theft From Motor Vehicle                       10185\n",
       "All Other Larceny                               7332\n",
       "Motor Vehicle Theft                             7213\n",
       "Vandalism                                       6177\n",
       "Burglary                                        4347\n",
       "Simple Assault                                  3453\n",
       "Shoplifting                                     3304\n",
       "Intimidation                                    2187\n",
       "Drug/Narcotic Violations                        1663\n",
       "Theft of Motor Vehicle Parts or Accessories     1643\n",
       "Aggravated Assault                              1634\n",
       "Theft From Building                             1558\n",
       "False Pretenses/Swindle/Confidence Game         1279\n",
       "Robbery                                         1035\n",
       "Identity Theft                                   887\n",
       "Credit Card/ATM Fraud                            855\n",
       "Counterfeiting/Forgery                           720\n",
       "Weapons Law Violations                           448\n",
       "Arson                                            306\n",
       "Rape                                             291\n",
       "Fondling                                         198\n",
       "Prostitution                                     190\n",
       "Pocket-Picking                                   153\n",
       "Purse-Snatching                                  139\n",
       "Embezzlement                                     127\n",
       "Stolen Property Offenses                          85\n",
       "Sodomy                                            73\n",
       "Kidnapping/Abduction                              73\n",
       "Hacking/Computer Invasion                         46\n",
       "Theft From Coin-Operated Machine or Device        33\n",
       "Murder and Non-negligent Manslaughter             22\n",
       "Extortion/Blackmail                               22\n",
       "Animal Cruelty                                    22\n",
       "Statutory Rape                                    21\n",
       "Pornography/Obscene Material                      21\n",
       "Commercial Sex Acts                               20\n",
       "Purchasing Prostitution                           14\n",
       "Sexual Assault With An Object                     14\n",
       "Impersonation                                     13\n",
       "Drug Equipment Violations                         11\n",
       "Assisting or Promoting Prostitution                7\n",
       "Wire Fraud                                         5\n",
       "Welfare Fraud                                      5\n",
       "Negligent Manslaughter                             1\n",
       "Incest                                             1\n",
       "Involuntary Servitude                              1\n",
       "Name: offensetype, dtype: int64"
      ]
     },
     "execution_count": 20,
     "metadata": {},
     "output_type": "execute_result"
    }
   ],
   "source": [
    "#count of offense in each type \n",
    "df[\"offensetype\"].value_counts()\n"
   ]
  },
  {
   "cell_type": "code",
   "execution_count": 21,
   "metadata": {},
   "outputs": [
    {
     "data": {
      "text/plain": [
       "57834"
      ]
     },
     "execution_count": 21,
     "metadata": {},
     "output_type": "execute_result"
    }
   ],
   "source": [
    " df[\"offensetype\"].count()"
   ]
  },
  {
   "cell_type": "code",
   "execution_count": 22,
   "metadata": {},
   "outputs": [
    {
     "data": {
      "text/plain": [
       "46"
      ]
     },
     "execution_count": 22,
     "metadata": {},
     "output_type": "execute_result"
    }
   ],
   "source": [
    "#count how many different type of offense is there on the dataset,it wont be this one but will be the one after \n",
    "df[\"offensetype\"].value_counts().count()"
   ]
  },
  {
   "cell_type": "code",
   "execution_count": 23,
   "metadata": {},
   "outputs": [
    {
     "data": {
      "text/plain": [
       "96"
      ]
     },
     "execution_count": 23,
     "metadata": {},
     "output_type": "execute_result"
    }
   ],
   "source": [
    "#how many neighberhood is there on the data set \n",
    "df[\"neighborhood\"].value_counts().count()"
   ]
  },
  {
   "cell_type": "code",
   "execution_count": 24,
   "metadata": {},
   "outputs": [
    {
     "data": {
      "text/plain": [
       "1     57185\n",
       "2       567\n",
       "3        59\n",
       "4        13\n",
       "5         4\n",
       "7         3\n",
       "16        1\n",
       "8         1\n",
       "6         1\n",
       "Name: offensecount, dtype: int64"
      ]
     },
     "execution_count": 24,
     "metadata": {},
     "output_type": "execute_result"
    }
   ],
   "source": [
    "df[\"offensecount\"].value_counts()"
   ]
  },
  {
   "cell_type": "code",
   "execution_count": 25,
   "metadata": {},
   "outputs": [
    {
     "data": {
      "text/plain": [
       "0        False\n",
       "1        False\n",
       "2        False\n",
       "3        False\n",
       "4        False\n",
       "         ...  \n",
       "59667    False\n",
       "59668    False\n",
       "59669    False\n",
       "59670    False\n",
       "59671    False\n",
       "Name: offensecount, Length: 57834, dtype: bool"
      ]
     },
     "execution_count": 25,
     "metadata": {},
     "output_type": "execute_result"
    }
   ],
   "source": [
    "#all of the row in the dataset when number of offense(offensecount) is more than two \n",
    "df[\"offensecount\"] >= 2\n",
    "#the result is infact a series which tell which value is true and which one is false(less than two)\n"
   ]
  },
  {
   "cell_type": "code",
   "execution_count": 26,
   "metadata": {},
   "outputs": [
    {
     "data": {
      "text/plain": [
       "False    57185\n",
       "True       649\n",
       "Name: offensecount, dtype: int64"
      ]
     },
     "execution_count": 26,
     "metadata": {},
     "output_type": "execute_result"
    }
   ],
   "source": [
    "(df[\"offensecount\"] >= 2).value_counts() \n",
    "#it says 57185 are less than two offenses and 649 rows have offenses equal or more than 2, to back to our first question, how to see rows with\n",
    "#two or more than two offensecount "
   ]
  },
  {
   "cell_type": "code",
   "execution_count": 27,
   "metadata": {},
   "outputs": [
    {
     "data": {
      "text/html": [
       "<div>\n",
       "<style scoped>\n",
       "    .dataframe tbody tr th:only-of-type {\n",
       "        vertical-align: middle;\n",
       "    }\n",
       "\n",
       "    .dataframe tbody tr th {\n",
       "        vertical-align: top;\n",
       "    }\n",
       "\n",
       "    .dataframe thead th {\n",
       "        text-align: right;\n",
       "    }\n",
       "</style>\n",
       "<table border=\"1\" class=\"dataframe\">\n",
       "  <thead>\n",
       "    <tr style=\"text-align: right;\">\n",
       "      <th></th>\n",
       "      <th>neighborhood</th>\n",
       "      <th>occurdate</th>\n",
       "      <th>occurtime</th>\n",
       "      <th>offensecategory</th>\n",
       "      <th>offensecount</th>\n",
       "      <th>offensetype</th>\n",
       "      <th>reportdate</th>\n",
       "    </tr>\n",
       "  </thead>\n",
       "  <tbody>\n",
       "    <tr>\n",
       "      <th>10</th>\n",
       "      <td>Powellhurst-Gilbert</td>\n",
       "      <td>2017-01-02</td>\n",
       "      <td>1323</td>\n",
       "      <td>Assault Offenses</td>\n",
       "      <td>3</td>\n",
       "      <td>Simple Assault</td>\n",
       "      <td>2017-01-02</td>\n",
       "    </tr>\n",
       "    <tr>\n",
       "      <th>15</th>\n",
       "      <td>Portsmouth</td>\n",
       "      <td>2017-01-01</td>\n",
       "      <td>120</td>\n",
       "      <td>Assault Offenses</td>\n",
       "      <td>8</td>\n",
       "      <td>Aggravated Assault</td>\n",
       "      <td>2017-01-01</td>\n",
       "    </tr>\n",
       "    <tr>\n",
       "      <th>53</th>\n",
       "      <td>Centennial</td>\n",
       "      <td>2017-01-06</td>\n",
       "      <td>1200</td>\n",
       "      <td>Assault Offenses</td>\n",
       "      <td>2</td>\n",
       "      <td>Simple Assault</td>\n",
       "      <td>2017-01-06</td>\n",
       "    </tr>\n",
       "    <tr>\n",
       "      <th>65</th>\n",
       "      <td>Mill Park</td>\n",
       "      <td>2017-01-01</td>\n",
       "      <td>2100</td>\n",
       "      <td>Assault Offenses</td>\n",
       "      <td>2</td>\n",
       "      <td>Intimidation</td>\n",
       "      <td>2017-01-06</td>\n",
       "    </tr>\n",
       "    <tr>\n",
       "      <th>68</th>\n",
       "      <td>Wilkes</td>\n",
       "      <td>2017-01-06</td>\n",
       "      <td>2243</td>\n",
       "      <td>Assault Offenses</td>\n",
       "      <td>2</td>\n",
       "      <td>Simple Assault</td>\n",
       "      <td>2017-01-06</td>\n",
       "    </tr>\n",
       "    <tr>\n",
       "      <th>...</th>\n",
       "      <td>...</td>\n",
       "      <td>...</td>\n",
       "      <td>...</td>\n",
       "      <td>...</td>\n",
       "      <td>...</td>\n",
       "      <td>...</td>\n",
       "      <td>...</td>\n",
       "    </tr>\n",
       "    <tr>\n",
       "      <th>58447</th>\n",
       "      <td>Hillsdale</td>\n",
       "      <td>2017-06-30</td>\n",
       "      <td>1030</td>\n",
       "      <td>Assault Offenses</td>\n",
       "      <td>2</td>\n",
       "      <td>Simple Assault</td>\n",
       "      <td>2017-06-30</td>\n",
       "    </tr>\n",
       "    <tr>\n",
       "      <th>58531</th>\n",
       "      <td>Downtown</td>\n",
       "      <td>2017-10-12</td>\n",
       "      <td>1710</td>\n",
       "      <td>Assault Offenses</td>\n",
       "      <td>2</td>\n",
       "      <td>Simple Assault</td>\n",
       "      <td>2017-10-12</td>\n",
       "    </tr>\n",
       "    <tr>\n",
       "      <th>58573</th>\n",
       "      <td>Downtown</td>\n",
       "      <td>2017-01-07</td>\n",
       "      <td>1446</td>\n",
       "      <td>Assault Offenses</td>\n",
       "      <td>2</td>\n",
       "      <td>Simple Assault</td>\n",
       "      <td>2017-01-07</td>\n",
       "    </tr>\n",
       "    <tr>\n",
       "      <th>58636</th>\n",
       "      <td>Downtown</td>\n",
       "      <td>2017-09-11</td>\n",
       "      <td>2103</td>\n",
       "      <td>Assault Offenses</td>\n",
       "      <td>3</td>\n",
       "      <td>Simple Assault</td>\n",
       "      <td>2017-09-11</td>\n",
       "    </tr>\n",
       "    <tr>\n",
       "      <th>58752</th>\n",
       "      <td>Southwest Hills</td>\n",
       "      <td>2017-08-08</td>\n",
       "      <td>1630</td>\n",
       "      <td>Motor Vehicle Theft</td>\n",
       "      <td>2</td>\n",
       "      <td>Motor Vehicle Theft</td>\n",
       "      <td>2017-08-09</td>\n",
       "    </tr>\n",
       "  </tbody>\n",
       "</table>\n",
       "<p>649 rows × 7 columns</p>\n",
       "</div>"
      ],
      "text/plain": [
       "              neighborhood   occurdate  occurtime      offensecategory  \\\n",
       "10     Powellhurst-Gilbert  2017-01-02       1323     Assault Offenses   \n",
       "15              Portsmouth  2017-01-01        120     Assault Offenses   \n",
       "53              Centennial  2017-01-06       1200     Assault Offenses   \n",
       "65               Mill Park  2017-01-01       2100     Assault Offenses   \n",
       "68                  Wilkes  2017-01-06       2243     Assault Offenses   \n",
       "...                    ...         ...        ...                  ...   \n",
       "58447            Hillsdale  2017-06-30       1030     Assault Offenses   \n",
       "58531             Downtown  2017-10-12       1710     Assault Offenses   \n",
       "58573             Downtown  2017-01-07       1446     Assault Offenses   \n",
       "58636             Downtown  2017-09-11       2103     Assault Offenses   \n",
       "58752      Southwest Hills  2017-08-08       1630  Motor Vehicle Theft   \n",
       "\n",
       "       offensecount          offensetype reportdate  \n",
       "10                3       Simple Assault 2017-01-02  \n",
       "15                8   Aggravated Assault 2017-01-01  \n",
       "53                2       Simple Assault 2017-01-06  \n",
       "65                2         Intimidation 2017-01-06  \n",
       "68                2       Simple Assault 2017-01-06  \n",
       "...             ...                  ...        ...  \n",
       "58447             2       Simple Assault 2017-06-30  \n",
       "58531             2       Simple Assault 2017-10-12  \n",
       "58573             2       Simple Assault 2017-01-07  \n",
       "58636             3       Simple Assault 2017-09-11  \n",
       "58752             2  Motor Vehicle Theft 2017-08-09  \n",
       "\n",
       "[649 rows x 7 columns]"
      ]
     },
     "execution_count": 27,
     "metadata": {},
     "output_type": "execute_result"
    }
   ],
   "source": [
    "df[df[\"offensecount\"] >= 2]"
   ]
  },
  {
   "cell_type": "code",
   "execution_count": 28,
   "metadata": {},
   "outputs": [
    {
     "data": {
      "text/plain": [
       "(57834, 7)"
      ]
     },
     "execution_count": 28,
     "metadata": {},
     "output_type": "execute_result"
    }
   ],
   "source": [
    "df.shape"
   ]
  },
  {
   "cell_type": "code",
   "execution_count": 29,
   "metadata": {},
   "outputs": [
    {
     "data": {
      "text/plain": [
       "10       3\n",
       "15       8\n",
       "53       2\n",
       "65       2\n",
       "68       2\n",
       "        ..\n",
       "58447    2\n",
       "58531    2\n",
       "58573    2\n",
       "58636    3\n",
       "58752    2\n",
       "Name: offensecount, Length: 649, dtype: int64"
      ]
     },
     "execution_count": 29,
     "metadata": {},
     "output_type": "execute_result"
    }
   ],
   "source": [
    "df[df[\"offensecount\"] >= 2][\"offensecount\"]"
   ]
  },
  {
   "cell_type": "code",
   "execution_count": 30,
   "metadata": {},
   "outputs": [
    {
     "data": {
      "text/plain": [
       "10       3\n",
       "15       8\n",
       "53       2\n",
       "65       2\n",
       "68       2\n",
       "        ..\n",
       "58447    2\n",
       "58531    2\n",
       "58573    2\n",
       "58636    3\n",
       "58752    2\n",
       "Name: offensecount, Length: 649, dtype: int64"
      ]
     },
     "execution_count": 30,
     "metadata": {},
     "output_type": "execute_result"
    }
   ],
   "source": [
    "#the more effiecient way to get index of rows with crime equal or more than two \n",
    "#and also to get number of crime in each of this indexes will be by use of loc \n",
    "df.loc[df[\"offensecount\"] >= 2, \"offensecount\"]"
   ]
  },
  {
   "cell_type": "code",
   "execution_count": 31,
   "metadata": {},
   "outputs": [
    {
     "data": {
      "text/html": [
       "<div>\n",
       "<style scoped>\n",
       "    .dataframe tbody tr th:only-of-type {\n",
       "        vertical-align: middle;\n",
       "    }\n",
       "\n",
       "    .dataframe tbody tr th {\n",
       "        vertical-align: top;\n",
       "    }\n",
       "\n",
       "    .dataframe thead th {\n",
       "        text-align: right;\n",
       "    }\n",
       "</style>\n",
       "<table border=\"1\" class=\"dataframe\">\n",
       "  <thead>\n",
       "    <tr style=\"text-align: right;\">\n",
       "      <th></th>\n",
       "      <th>offensecategory</th>\n",
       "    </tr>\n",
       "  </thead>\n",
       "  <tbody>\n",
       "    <tr>\n",
       "      <th>10</th>\n",
       "      <td>Assault Offenses</td>\n",
       "    </tr>\n",
       "    <tr>\n",
       "      <th>15</th>\n",
       "      <td>Assault Offenses</td>\n",
       "    </tr>\n",
       "    <tr>\n",
       "      <th>53</th>\n",
       "      <td>Assault Offenses</td>\n",
       "    </tr>\n",
       "    <tr>\n",
       "      <th>65</th>\n",
       "      <td>Assault Offenses</td>\n",
       "    </tr>\n",
       "    <tr>\n",
       "      <th>68</th>\n",
       "      <td>Assault Offenses</td>\n",
       "    </tr>\n",
       "    <tr>\n",
       "      <th>...</th>\n",
       "      <td>...</td>\n",
       "    </tr>\n",
       "    <tr>\n",
       "      <th>58447</th>\n",
       "      <td>Assault Offenses</td>\n",
       "    </tr>\n",
       "    <tr>\n",
       "      <th>58531</th>\n",
       "      <td>Assault Offenses</td>\n",
       "    </tr>\n",
       "    <tr>\n",
       "      <th>58573</th>\n",
       "      <td>Assault Offenses</td>\n",
       "    </tr>\n",
       "    <tr>\n",
       "      <th>58636</th>\n",
       "      <td>Assault Offenses</td>\n",
       "    </tr>\n",
       "    <tr>\n",
       "      <th>58752</th>\n",
       "      <td>Motor Vehicle Theft</td>\n",
       "    </tr>\n",
       "  </tbody>\n",
       "</table>\n",
       "<p>649 rows × 1 columns</p>\n",
       "</div>"
      ],
      "text/plain": [
       "           offensecategory\n",
       "10        Assault Offenses\n",
       "15        Assault Offenses\n",
       "53        Assault Offenses\n",
       "65        Assault Offenses\n",
       "68        Assault Offenses\n",
       "...                    ...\n",
       "58447     Assault Offenses\n",
       "58531     Assault Offenses\n",
       "58573     Assault Offenses\n",
       "58636     Assault Offenses\n",
       "58752  Motor Vehicle Theft\n",
       "\n",
       "[649 rows x 1 columns]"
      ]
     },
     "execution_count": 31,
     "metadata": {},
     "output_type": "execute_result"
    }
   ],
   "source": [
    "#what if we want the offense category of each instance with two or more than two offense \n",
    "df.loc[df[\"offensecount\"] >= 2, [\"offensecategory\"]]"
   ]
  },
  {
   "cell_type": "code",
   "execution_count": 32,
   "metadata": {},
   "outputs": [
    {
     "data": {
      "text/plain": [
       "array(['Assault Offenses', 'Kidnapping/Abduction', 'Sex Offenses',\n",
       "       'Homicide Offenses', 'Motor Vehicle Theft'], dtype=object)"
      ]
     },
     "execution_count": 32,
     "metadata": {},
     "output_type": "execute_result"
    }
   ],
   "source": [
    "#if we want to know which offense categories has the offense count of two or more than two \n",
    "\n",
    "df.loc[df[\"offensecount\"] >= 2, \"offensecategory\"].unique()"
   ]
  },
  {
   "cell_type": "code",
   "execution_count": 33,
   "metadata": {},
   "outputs": [
    {
     "data": {
      "text/html": [
       "<div>\n",
       "<style scoped>\n",
       "    .dataframe tbody tr th:only-of-type {\n",
       "        vertical-align: middle;\n",
       "    }\n",
       "\n",
       "    .dataframe tbody tr th {\n",
       "        vertical-align: top;\n",
       "    }\n",
       "\n",
       "    .dataframe thead th {\n",
       "        text-align: right;\n",
       "    }\n",
       "</style>\n",
       "<table border=\"1\" class=\"dataframe\">\n",
       "  <thead>\n",
       "    <tr style=\"text-align: right;\">\n",
       "      <th></th>\n",
       "      <th>offensecount</th>\n",
       "      <th>occurdate</th>\n",
       "      <th>offensecategory</th>\n",
       "    </tr>\n",
       "  </thead>\n",
       "  <tbody>\n",
       "    <tr>\n",
       "      <th>10</th>\n",
       "      <td>3</td>\n",
       "      <td>2017-01-02</td>\n",
       "      <td>Assault Offenses</td>\n",
       "    </tr>\n",
       "    <tr>\n",
       "      <th>15</th>\n",
       "      <td>8</td>\n",
       "      <td>2017-01-01</td>\n",
       "      <td>Assault Offenses</td>\n",
       "    </tr>\n",
       "    <tr>\n",
       "      <th>53</th>\n",
       "      <td>2</td>\n",
       "      <td>2017-01-06</td>\n",
       "      <td>Assault Offenses</td>\n",
       "    </tr>\n",
       "    <tr>\n",
       "      <th>65</th>\n",
       "      <td>2</td>\n",
       "      <td>2017-01-01</td>\n",
       "      <td>Assault Offenses</td>\n",
       "    </tr>\n",
       "    <tr>\n",
       "      <th>68</th>\n",
       "      <td>2</td>\n",
       "      <td>2017-01-06</td>\n",
       "      <td>Assault Offenses</td>\n",
       "    </tr>\n",
       "    <tr>\n",
       "      <th>...</th>\n",
       "      <td>...</td>\n",
       "      <td>...</td>\n",
       "      <td>...</td>\n",
       "    </tr>\n",
       "    <tr>\n",
       "      <th>58447</th>\n",
       "      <td>2</td>\n",
       "      <td>2017-06-30</td>\n",
       "      <td>Assault Offenses</td>\n",
       "    </tr>\n",
       "    <tr>\n",
       "      <th>58531</th>\n",
       "      <td>2</td>\n",
       "      <td>2017-10-12</td>\n",
       "      <td>Assault Offenses</td>\n",
       "    </tr>\n",
       "    <tr>\n",
       "      <th>58573</th>\n",
       "      <td>2</td>\n",
       "      <td>2017-01-07</td>\n",
       "      <td>Assault Offenses</td>\n",
       "    </tr>\n",
       "    <tr>\n",
       "      <th>58636</th>\n",
       "      <td>3</td>\n",
       "      <td>2017-09-11</td>\n",
       "      <td>Assault Offenses</td>\n",
       "    </tr>\n",
       "    <tr>\n",
       "      <th>58752</th>\n",
       "      <td>2</td>\n",
       "      <td>2017-08-08</td>\n",
       "      <td>Motor Vehicle Theft</td>\n",
       "    </tr>\n",
       "  </tbody>\n",
       "</table>\n",
       "<p>649 rows × 3 columns</p>\n",
       "</div>"
      ],
      "text/plain": [
       "       offensecount   occurdate      offensecategory\n",
       "10                3  2017-01-02     Assault Offenses\n",
       "15                8  2017-01-01     Assault Offenses\n",
       "53                2  2017-01-06     Assault Offenses\n",
       "65                2  2017-01-01     Assault Offenses\n",
       "68                2  2017-01-06     Assault Offenses\n",
       "...             ...         ...                  ...\n",
       "58447             2  2017-06-30     Assault Offenses\n",
       "58531             2  2017-10-12     Assault Offenses\n",
       "58573             2  2017-01-07     Assault Offenses\n",
       "58636             3  2017-09-11     Assault Offenses\n",
       "58752             2  2017-08-08  Motor Vehicle Theft\n",
       "\n",
       "[649 rows x 3 columns]"
      ]
     },
     "execution_count": 33,
     "metadata": {},
     "output_type": "execute_result"
    }
   ],
   "source": [
    "#how to get offence category and occure date for indexes with two or more than two in offense count columns \n",
    "df.loc[df[\"offensecount\"] >= 2, ['offensecount','occurdate', 'offensecategory']]\n",
    "#by pouting  the part after , on a seprate [] we put it as a list and the result will be a dataframe "
   ]
  },
  {
   "cell_type": "code",
   "execution_count": 34,
   "metadata": {},
   "outputs": [
    {
     "data": {
      "text/plain": [
       "neighborhood               object\n",
       "occurdate                  object\n",
       "occurtime                   int64\n",
       "offensecategory            object\n",
       "offensecount                int64\n",
       "offensetype                object\n",
       "reportdate         datetime64[ns]\n",
       "dtype: object"
      ]
     },
     "execution_count": 34,
     "metadata": {},
     "output_type": "execute_result"
    }
   ],
   "source": [
    "df.dtypes"
   ]
  },
  {
   "cell_type": "code",
   "execution_count": 35,
   "metadata": {},
   "outputs": [
    {
     "data": {
      "text/plain": [
       "<bound method NDFrame.head of 0                       Lents\n",
       "1                       Lents\n",
       "2        Brentwood-Darlington\n",
       "3                    St Johns\n",
       "4                  Centennial\n",
       "                 ...         \n",
       "59667            Goose Hollow\n",
       "59668        Sylvan-Highlands\n",
       "59669       Arlington Heights\n",
       "59670        Sylvan-Highlands\n",
       "59671                 Linnton\n",
       "Name: neighborhood, Length: 57834, dtype: object>"
      ]
     },
     "execution_count": 35,
     "metadata": {},
     "output_type": "execute_result"
    }
   ],
   "source": [
    "df[\"neighborhood\"].head\n",
    "#object datatype is a subsuite of string so this is fine"
   ]
  },
  {
   "cell_type": "code",
   "execution_count": 36,
   "metadata": {},
   "outputs": [
    {
     "data": {
      "text/plain": [
       "0    2017-01-01\n",
       "1    2017-01-01\n",
       "2    2017-01-01\n",
       "3    2017-01-01\n",
       "4    2017-01-01\n",
       "5    2017-01-01\n",
       "6    2017-01-01\n",
       "7    2017-01-01\n",
       "8    2017-01-01\n",
       "9    2017-01-01\n",
       "Name: occurdate, dtype: object"
      ]
     },
     "execution_count": 36,
     "metadata": {},
     "output_type": "execute_result"
    }
   ],
   "source": [
    "df[\"occurdate\"].head(10)\n",
    "#we know this is date so this not good that the data type is object "
   ]
  },
  {
   "cell_type": "code",
   "execution_count": 37,
   "metadata": {},
   "outputs": [
    {
     "data": {
      "text/plain": [
       "dtype('<M8[ns]')"
      ]
     },
     "execution_count": 37,
     "metadata": {},
     "output_type": "execute_result"
    }
   ],
   "source": [
    "df[\"reportdate\"].dtype"
   ]
  },
  {
   "cell_type": "code",
   "execution_count": 38,
   "metadata": {},
   "outputs": [
    {
     "data": {
      "text/plain": [
       "dtype('<M8[ns]')"
      ]
     },
     "execution_count": 38,
     "metadata": {},
     "output_type": "execute_result"
    }
   ],
   "source": [
    "#we will use a function which is part of the pandas, this is not a method, we will use pandas.to_datetime\n",
    "pd.to_datetime(df[\"reportdate\"]).dtype"
   ]
  },
  {
   "cell_type": "code",
   "execution_count": 39,
   "metadata": {},
   "outputs": [
    {
     "data": {
      "text/plain": [
       "0       2017-01-01\n",
       "1       2017-01-01\n",
       "2       2017-01-01\n",
       "3       2017-01-01\n",
       "4       2017-01-01\n",
       "           ...    \n",
       "59667   2017-03-22\n",
       "59668   2017-04-21\n",
       "59669   2017-09-04\n",
       "59670   2017-05-09\n",
       "59671   2017-03-08\n",
       "Name: reportdate, Length: 57834, dtype: datetime64[ns]"
      ]
     },
     "execution_count": 39,
     "metadata": {},
     "output_type": "execute_result"
    }
   ],
   "source": [
    "pd.to_datetime(df[\"reportdate\"])"
   ]
  },
  {
   "cell_type": "code",
   "execution_count": 40,
   "metadata": {},
   "outputs": [
    {
     "data": {
      "text/plain": [
       "59659    2017-10-07\n",
       "59660    2017-08-06\n",
       "59664    2017-03-22\n",
       "59665    2017-03-22\n",
       "59666    2017-03-22\n",
       "59667    2017-03-22\n",
       "59668    2017-04-21\n",
       "59669    2017-09-04\n",
       "59670    2017-05-09\n",
       "59671    2017-03-08\n",
       "Name: occurdate, dtype: object"
      ]
     },
     "execution_count": 40,
     "metadata": {},
     "output_type": "execute_result"
    }
   ],
   "source": [
    "df['occurdate'].tail(10)"
   ]
  },
  {
   "cell_type": "code",
   "execution_count": 41,
   "metadata": {},
   "outputs": [
    {
     "data": {
      "text/plain": [
       "0       2017-01-01\n",
       "1       2017-01-01\n",
       "2       2017-01-01\n",
       "3       2017-01-01\n",
       "4       2017-01-01\n",
       "           ...    \n",
       "59667   2017-03-22\n",
       "59668   2017-04-21\n",
       "59669   2017-09-04\n",
       "59670   2017-05-09\n",
       "59671   2017-03-08\n",
       "Name: occurdate, Length: 57834, dtype: datetime64[ns]"
      ]
     },
     "execution_count": 41,
     "metadata": {},
     "output_type": "execute_result"
    }
   ],
   "source": [
    "pd.to_datetime(df[\"occurdate\"],format = \"%Y-%m-%d\")"
   ]
  },
  {
   "cell_type": "code",
   "execution_count": 42,
   "metadata": {},
   "outputs": [
    {
     "data": {
      "text/plain": [
       "59659   2017-10-07\n",
       "59660   2017-08-06\n",
       "59664   2017-03-22\n",
       "59665   2017-03-22\n",
       "59666   2017-03-22\n",
       "59667   2017-03-22\n",
       "59668   2017-04-21\n",
       "59669   2017-09-04\n",
       "59670   2017-05-09\n",
       "59671   2017-03-08\n",
       "Name: reportdate, dtype: datetime64[ns]"
      ]
     },
     "execution_count": 42,
     "metadata": {},
     "output_type": "execute_result"
    }
   ],
   "source": [
    "df['reportdate'].tail(10)"
   ]
  },
  {
   "cell_type": "code",
   "execution_count": 43,
   "metadata": {},
   "outputs": [
    {
     "data": {
      "text/plain": [
       "neighborhood               object\n",
       "occurdate                  object\n",
       "occurtime                   int64\n",
       "offensecategory            object\n",
       "offensecount                int64\n",
       "offensetype                object\n",
       "reportdate         datetime64[ns]\n",
       "dtype: object"
      ]
     },
     "execution_count": 43,
     "metadata": {},
     "output_type": "execute_result"
    }
   ],
   "source": [
    "df.dtypes"
   ]
  },
  {
   "cell_type": "code",
   "execution_count": 44,
   "metadata": {},
   "outputs": [
    {
     "data": {
      "text/plain": [
       "59659    1814\n",
       "59660    1655\n",
       "59664    1348\n",
       "59665    1348\n",
       "59666    1348\n",
       "59667    1330\n",
       "59668     130\n",
       "59669     932\n",
       "59670     458\n",
       "59671     800\n",
       "Name: occurtime, dtype: int64"
      ]
     },
     "execution_count": 44,
     "metadata": {},
     "output_type": "execute_result"
    }
   ],
   "source": [
    "df['occurtime'].tail(10)"
   ]
  },
  {
   "cell_type": "code",
   "execution_count": 45,
   "metadata": {},
   "outputs": [
    {
     "data": {
      "text/html": [
       "<div>\n",
       "<style scoped>\n",
       "    .dataframe tbody tr th:only-of-type {\n",
       "        vertical-align: middle;\n",
       "    }\n",
       "\n",
       "    .dataframe tbody tr th {\n",
       "        vertical-align: top;\n",
       "    }\n",
       "\n",
       "    .dataframe thead th {\n",
       "        text-align: right;\n",
       "    }\n",
       "</style>\n",
       "<table border=\"1\" class=\"dataframe\">\n",
       "  <thead>\n",
       "    <tr style=\"text-align: right;\">\n",
       "      <th></th>\n",
       "      <th>occurtime</th>\n",
       "      <th>occurdate</th>\n",
       "    </tr>\n",
       "  </thead>\n",
       "  <tbody>\n",
       "    <tr>\n",
       "      <th>0</th>\n",
       "      <td>135</td>\n",
       "      <td>2017-01-01</td>\n",
       "    </tr>\n",
       "    <tr>\n",
       "      <th>1</th>\n",
       "      <td>147</td>\n",
       "      <td>2017-01-01</td>\n",
       "    </tr>\n",
       "    <tr>\n",
       "      <th>2</th>\n",
       "      <td>218</td>\n",
       "      <td>2017-01-01</td>\n",
       "    </tr>\n",
       "    <tr>\n",
       "      <th>3</th>\n",
       "      <td>55</td>\n",
       "      <td>2017-01-01</td>\n",
       "    </tr>\n",
       "    <tr>\n",
       "      <th>4</th>\n",
       "      <td>220</td>\n",
       "      <td>2017-01-01</td>\n",
       "    </tr>\n",
       "    <tr>\n",
       "      <th>5</th>\n",
       "      <td>448</td>\n",
       "      <td>2017-01-01</td>\n",
       "    </tr>\n",
       "    <tr>\n",
       "      <th>6</th>\n",
       "      <td>123</td>\n",
       "      <td>2017-01-01</td>\n",
       "    </tr>\n",
       "    <tr>\n",
       "      <th>7</th>\n",
       "      <td>400</td>\n",
       "      <td>2017-01-01</td>\n",
       "    </tr>\n",
       "    <tr>\n",
       "      <th>8</th>\n",
       "      <td>2036</td>\n",
       "      <td>2017-01-01</td>\n",
       "    </tr>\n",
       "    <tr>\n",
       "      <th>9</th>\n",
       "      <td>1817</td>\n",
       "      <td>2017-01-01</td>\n",
       "    </tr>\n",
       "  </tbody>\n",
       "</table>\n",
       "</div>"
      ],
      "text/plain": [
       "   occurtime   occurdate\n",
       "0        135  2017-01-01\n",
       "1        147  2017-01-01\n",
       "2        218  2017-01-01\n",
       "3         55  2017-01-01\n",
       "4        220  2017-01-01\n",
       "5        448  2017-01-01\n",
       "6        123  2017-01-01\n",
       "7        400  2017-01-01\n",
       "8       2036  2017-01-01\n",
       "9       1817  2017-01-01"
      ]
     },
     "execution_count": 45,
     "metadata": {},
     "output_type": "execute_result"
    }
   ],
   "source": [
    "df[[\"occurtime\", \"occurdate\"]].head(10)"
   ]
  },
  {
   "cell_type": "code",
   "execution_count": 46,
   "metadata": {},
   "outputs": [
    {
     "data": {
      "text/plain": [
       "0         2017-01-01:135\n",
       "1         2017-01-01:147\n",
       "2         2017-01-01:218\n",
       "3          2017-01-01:55\n",
       "4         2017-01-01:220\n",
       "              ...       \n",
       "59667    2017-03-22:1330\n",
       "59668     2017-04-21:130\n",
       "59669     2017-09-04:932\n",
       "59670     2017-05-09:458\n",
       "59671     2017-03-08:800\n",
       "Length: 57834, dtype: object"
      ]
     },
     "execution_count": 46,
     "metadata": {},
     "output_type": "execute_result"
    }
   ],
   "source": [
    "#to concatenate these two columns \n",
    "df[\"occurdate\"]+ \":\" +df['occurtime'].astype(\"str\")"
   ]
  },
  {
   "cell_type": "code",
   "execution_count": 47,
   "metadata": {},
   "outputs": [],
   "source": [
    "def clean_time(s):\n",
    "    return s [:-2] + \":\" + s[-2:]\n"
   ]
  },
  {
   "cell_type": "code",
   "execution_count": 48,
   "metadata": {},
   "outputs": [
    {
     "data": {
      "text/plain": [
       "'13:30'"
      ]
     },
     "execution_count": 48,
     "metadata": {},
     "output_type": "execute_result"
    }
   ],
   "source": [
    "clean_time(\"1330\")"
   ]
  },
  {
   "cell_type": "code",
   "execution_count": 49,
   "metadata": {},
   "outputs": [
    {
     "data": {
      "text/plain": [
       "0         1:35\n",
       "1         1:47\n",
       "2         2:18\n",
       "3          :55\n",
       "4         2:20\n",
       "         ...  \n",
       "59667    13:30\n",
       "59668     1:30\n",
       "59669     9:32\n",
       "59670     4:58\n",
       "59671     8:00\n",
       "Name: occurtime, Length: 57834, dtype: object"
      ]
     },
     "execution_count": 49,
     "metadata": {},
     "output_type": "execute_result"
    }
   ],
   "source": [
    "df[\"occurtime\"].astype(\"str\").apply(lambda s:s [:-2] + \":\" + s[-2:])"
   ]
  },
  {
   "cell_type": "code",
   "execution_count": 50,
   "metadata": {},
   "outputs": [],
   "source": [
    "#handling the concatenation part \n",
    "\n",
    "s = df['occurdate'] + \":\" + df[\"occurtime\"]. astype(\"str\").apply(lambda s: s[:-2] + \":\" + s[-2:])\n"
   ]
  },
  {
   "cell_type": "code",
   "execution_count": 51,
   "metadata": {},
   "outputs": [
    {
     "data": {
      "text/plain": [
       "0       2017-01-01 01:35:00\n",
       "1       2017-01-01 01:47:00\n",
       "2       2017-01-01 02:18:00\n",
       "3                       NaT\n",
       "4       2017-01-01 02:20:00\n",
       "                ...        \n",
       "59667   2017-03-22 13:30:00\n",
       "59668   2017-04-21 01:30:00\n",
       "59669   2017-09-04 09:32:00\n",
       "59670   2017-05-09 04:58:00\n",
       "59671   2017-03-08 08:00:00\n",
       "Length: 57834, dtype: datetime64[ns]"
      ]
     },
     "execution_count": 51,
     "metadata": {},
     "output_type": "execute_result"
    }
   ],
   "source": [
    "pd.to_datetime(s, format = \"%Y-%m-%d:%H:%M\", errors=\"coerce\")"
   ]
  },
  {
   "cell_type": "code",
   "execution_count": 5,
   "metadata": {},
   "outputs": [],
   "source": [
    "df = pd.read_csv(path)\\\n",
    "    .rename(columns = lambda s: s.lower().replace(\" \", \"_\"))\\\n",
    "    [[\n",
    "    'neighborhood', \n",
    "    'occurdate',\n",
    "    'occurtime',\n",
    "    'offensecategory',\n",
    "    'offensecount', \n",
    "    'offensetype',\n",
    "    'reportdate' \n",
    "    ]]\\\n",
    "    .dropna()\\\n",
    "    .assign(reportdate=lambda df: pd.to_datetime(df['reportdate'], format=\"%Y-%m-%d\"))\n",
    "occurdatetime =pd.to_datetime(\n",
    "    df['occurdate'] + \":\" + df[\"occurtime\"]. astype(\"str\").apply(lambda s: s[:-2] + \":\" + s[-2:]),\n",
    "    format = \"%Y-%m-%d:%H:%M\", \n",
    "    errors=\"coerce\"\n",
    ")\n",
    "\n",
    "df = df.assign(occurdatetime = occurdatetime)\\\n",
    "   .drop(\"occurdate\", axis=1)\\\n",
    "   .drop(\"occurtime\", axis=1)\\\n",
    "   .dropna()"
   ]
  },
  {
   "cell_type": "code",
   "execution_count": 53,
   "metadata": {},
   "outputs": [
    {
     "data": {
      "text/plain": [
       "neighborhood               object\n",
       "offensecategory            object\n",
       "offensecount                int64\n",
       "offensetype                object\n",
       "reportdate         datetime64[ns]\n",
       "occurdatetime      datetime64[ns]\n",
       "dtype: object"
      ]
     },
     "execution_count": 53,
     "metadata": {},
     "output_type": "execute_result"
    }
   ],
   "source": [
    "df.dtypes"
   ]
  },
  {
   "cell_type": "markdown",
   "metadata": {},
   "source": [
    "<h2> Analysis <h2>"
   ]
  },
  {
   "cell_type": "code",
   "execution_count": 59,
   "metadata": {},
   "outputs": [
    {
     "data": {
      "text/plain": [
       "<bound method NDFrame.head of                neighborhood           offensecategory  offensecount  \\\n",
       "0                     Lents          Assault Offenses             1   \n",
       "1                     Lents          Assault Offenses             1   \n",
       "2      Brentwood-Darlington          Assault Offenses             1   \n",
       "4                Centennial          Assault Offenses             1   \n",
       "5                 Multnomah          Assault Offenses             1   \n",
       "...                     ...                       ...           ...   \n",
       "59667          Goose Hollow                 Vandalism             1   \n",
       "59668      Sylvan-Highlands                 Vandalism             1   \n",
       "59669     Arlington Heights          Assault Offenses             1   \n",
       "59670      Sylvan-Highlands  Stolen Property Offenses             1   \n",
       "59671               Linnton          Larceny Offenses             1   \n",
       "\n",
       "                    offensetype reportdate       occurdatetime  \n",
       "0                Simple Assault 2017-01-01 2017-01-01 01:35:00  \n",
       "1                Simple Assault 2017-01-01 2017-01-01 01:47:00  \n",
       "2                Simple Assault 2017-01-01 2017-01-01 02:18:00  \n",
       "4            Aggravated Assault 2017-01-01 2017-01-01 02:20:00  \n",
       "5                Simple Assault 2017-01-01 2017-01-01 04:48:00  \n",
       "...                         ...        ...                 ...  \n",
       "59667                 Vandalism 2017-03-22 2017-03-22 13:30:00  \n",
       "59668                 Vandalism 2017-04-21 2017-04-21 01:30:00  \n",
       "59669        Aggravated Assault 2017-09-04 2017-09-04 09:32:00  \n",
       "59670  Stolen Property Offenses 2017-05-09 2017-05-09 04:58:00  \n",
       "59671  Theft From Motor Vehicle 2017-03-08 2017-03-08 08:00:00  \n",
       "\n",
       "[54145 rows x 6 columns]>"
      ]
     },
     "execution_count": 59,
     "metadata": {},
     "output_type": "execute_result"
    }
   ],
   "source": [
    "df.head"
   ]
  },
  {
   "cell_type": "markdown",
   "metadata": {},
   "source": [
    "## Most Crime Neighborhood (by incident)"
   ]
  },
  {
   "cell_type": "code",
   "execution_count": 62,
   "metadata": {},
   "outputs": [],
   "source": [
    "Neighborhood_crime_count = df[\"neighborhood\"].value_counts()"
   ]
  },
  {
   "cell_type": "code",
   "execution_count": 63,
   "metadata": {},
   "outputs": [
    {
     "data": {
      "text/plain": [
       "Downtown               3724\n",
       "Hazelwood              3568\n",
       "Lents                  2072\n",
       "Powellhurst-Gilbert    2006\n",
       "Old Town/Chinatown     1913\n",
       "Centennial             1769\n",
       "Northwest              1660\n",
       "Pearl                  1552\n",
       "Montavilla             1513\n",
       "Lloyd                  1356\n",
       "Name: neighborhood, dtype: int64"
      ]
     },
     "execution_count": 63,
     "metadata": {},
     "output_type": "execute_result"
    }
   ],
   "source": [
    "Neighborhood_crime_count.head(10)"
   ]
  },
  {
   "cell_type": "code",
   "execution_count": 65,
   "metadata": {},
   "outputs": [
    {
     "data": {
      "text/plain": [
       "Healy Heights         5\n",
       "Marshall Park         8\n",
       "Crestwood            16\n",
       "Woodland Park        22\n",
       "Markham              28\n",
       "Arnold Creek         28\n",
       "Northwest Heights    36\n",
       "South Burlingame     38\n",
       "Ardenwald            40\n",
       "Hillside             42\n",
       "Name: neighborhood, dtype: int64"
      ]
     },
     "execution_count": 65,
     "metadata": {},
     "output_type": "execute_result"
    }
   ],
   "source": [
    "Neighborhood_crime_count.tail(10).sort_values(ascending = True)"
   ]
  },
  {
   "cell_type": "markdown",
   "metadata": {},
   "source": [
    "## Most Crime Neighborhood (offensecount)"
   ]
  },
  {
   "cell_type": "code",
   "execution_count": 78,
   "metadata": {},
   "outputs": [
    {
     "data": {
      "text/plain": [
       "neighborhood\n",
       "Alameda               138\n",
       "Arbor Lodge           510\n",
       "Ardenwald              40\n",
       "Argay                 659\n",
       "Arlington Heights      59\n",
       "                     ... \n",
       "West Portland Park    146\n",
       "Wilkes                579\n",
       "Woodland Park          23\n",
       "Woodlawn              232\n",
       "Woodstock             544\n",
       "Name: offensecount, Length: 96, dtype: int64"
      ]
     },
     "execution_count": 78,
     "metadata": {},
     "output_type": "execute_result"
    }
   ],
   "source": [
    "df.groupby(\"neighborhood\")[\"offensecount\"].sum()"
   ]
  },
  {
   "cell_type": "code",
   "execution_count": 79,
   "metadata": {},
   "outputs": [
    {
     "data": {
      "text/plain": [
       "array(['Simple Assault', 'Aggravated Assault', 'Rape', 'Intimidation',\n",
       "       'Robbery', 'Vandalism', 'Burglary', 'All Other Larceny',\n",
       "       'Theft From Building', 'Sexual Assault With An Object',\n",
       "       'Drug/Narcotic Violations', 'Theft From Motor Vehicle',\n",
       "       'Weapons Law Violations', 'Sodomy', 'Credit Card/ATM Fraud',\n",
       "       'Fondling', 'False Pretenses/Swindle/Confidence Game',\n",
       "       'Kidnapping/Abduction', 'Pocket-Picking', 'Motor Vehicle Theft',\n",
       "       'Identity Theft', 'Statutory Rape', 'Counterfeiting/Forgery',\n",
       "       'Embezzlement', 'Theft of Motor Vehicle Parts or Accessories',\n",
       "       'Commercial Sex Acts', 'Extortion/Blackmail', 'Purse-Snatching',\n",
       "       'Murder and Non-negligent Manslaughter', 'Animal Cruelty',\n",
       "       'Shoplifting', 'Involuntary Servitude', 'Arson',\n",
       "       'Assisting or Promoting Prostitution', 'Prostitution',\n",
       "       'Stolen Property Offenses', 'Impersonation',\n",
       "       'Pornography/Obscene Material', 'Hacking/Computer Invasion',\n",
       "       'Incest', 'Welfare Fraud',\n",
       "       'Theft From Coin-Operated Machine or Device',\n",
       "       'Purchasing Prostitution', 'Drug Equipment Violations',\n",
       "       'Wire Fraud', 'Negligent Manslaughter'], dtype=object)"
      ]
     },
     "execution_count": 79,
     "metadata": {},
     "output_type": "execute_result"
    }
   ],
   "source": [
    "#lets do it on specific type of offense, to see these two(by incident and grouping by are different)\n",
    "df[\"offensetype\"].unique()"
   ]
  },
  {
   "cell_type": "code",
   "execution_count": 85,
   "metadata": {},
   "outputs": [],
   "source": [
    "vehicletheft_df = df[df[\"offensetype\"] == 'Theft of Motor Vehicle Parts or Accessories']"
   ]
  },
  {
   "cell_type": "code",
   "execution_count": 86,
   "metadata": {},
   "outputs": [
    {
     "data": {
      "text/plain": [
       "Hazelwood              111\n",
       "Lents                   74\n",
       "Montavilla              68\n",
       "Powellhurst-Gilbert     51\n",
       "Centennial              47\n",
       "                      ... \n",
       "Vernon                   1\n",
       "Northwest Heights        1\n",
       "Ardenwald                1\n",
       "Maplewood                1\n",
       "Crestwood                1\n",
       "Name: neighborhood, Length: 86, dtype: int64"
      ]
     },
     "execution_count": 86,
     "metadata": {},
     "output_type": "execute_result"
    }
   ],
   "source": [
    "vehicletheft_df[\"neighborhood\"].value_counts() "
   ]
  },
  {
   "cell_type": "code",
   "execution_count": 89,
   "metadata": {},
   "outputs": [
    {
     "data": {
      "text/plain": [
       "neighborhood\n",
       "Hazelwood              111\n",
       "Lents                   74\n",
       "Montavilla              68\n",
       "Powellhurst-Gilbert     51\n",
       "Centennial              47\n",
       "                      ... \n",
       "Crestwood                1\n",
       "Bridlemile               1\n",
       "Maplewood                1\n",
       "Vernon                   1\n",
       "Ardenwald                1\n",
       "Name: offensecount, Length: 86, dtype: int64"
      ]
     },
     "execution_count": 89,
     "metadata": {},
     "output_type": "execute_result"
    }
   ],
   "source": [
    "vehicletheft_df.groupby(\"neighborhood\")[\"offensecount\"].sum().sort_values(ascending = False)"
   ]
  },
  {
   "cell_type": "code",
   "execution_count": 6,
   "metadata": {},
   "outputs": [],
   "source": [
    "KidnappingAbductiond_df = df[df[\"offensetype\"] == 'Kidnapping/Abduction']"
   ]
  },
  {
   "cell_type": "code",
   "execution_count": 7,
   "metadata": {},
   "outputs": [
    {
     "data": {
      "text/plain": [
       "Index(['neighborhood', 'offensecategory', 'offensecount', 'offensetype',\n",
       "       'reportdate', 'occurdatetime'],\n",
       "      dtype='object')"
      ]
     },
     "execution_count": 7,
     "metadata": {},
     "output_type": "execute_result"
    }
   ],
   "source": [
    "KidnappingAbductiond_df.columns"
   ]
  },
  {
   "cell_type": "code",
   "execution_count": 8,
   "metadata": {},
   "outputs": [
    {
     "data": {
      "text/plain": [
       "426"
      ]
     },
     "execution_count": 8,
     "metadata": {},
     "output_type": "execute_result"
    }
   ],
   "source": [
    "KidnappingAbductiond_df.size"
   ]
  },
  {
   "cell_type": "code",
   "execution_count": 14,
   "metadata": {},
   "outputs": [
    {
     "data": {
      "text/plain": [
       "neighborhood\n",
       "Old Town/Chinatown      6\n",
       "Powellhurst-Gilbert     6\n",
       "Downtown                5\n",
       "Buckman West            5\n",
       "Lents                   4\n",
       "Parkrose                3\n",
       "Madison South           3\n",
       "Montavilla              3\n",
       "Arbor Lodge             3\n",
       "Pearl                   2\n",
       "Piedmont                2\n",
       "Cully                   2\n",
       "Brentwood-Darlington    2\n",
       "Mt Scott-Arleta         2\n",
       "Hazelwood               2\n",
       "Argay                   2\n",
       "Overlook                2\n",
       "Kerns                   1\n",
       "Concordia               1\n",
       "Glenfair                1\n",
       "Boise                   1\n",
       "Hayden Island           1\n",
       "Hillsdale               1\n",
       "Woodstock               1\n",
       "Lloyd                   1\n",
       "Maplewood               1\n",
       "Woodland Park           1\n",
       "Multnomah               1\n",
       "Northwest               1\n",
       "Northwest Industrial    1\n",
       "Reed                    1\n",
       "Roseway                 1\n",
       "South Tabor             1\n",
       "Sylvan-Highlands        1\n",
       "Wilkes                  1\n",
       "Mill Park               1\n",
       "Name: offensecount, dtype: int64"
      ]
     },
     "execution_count": 14,
     "metadata": {},
     "output_type": "execute_result"
    }
   ],
   "source": [
    "#grouping the data by neighborhood and then adding up some numerical values \n",
    "KidnappingAbductiond_df.groupby('neighborhood')['offensecount'].sum().sort_values(ascending =False)\n"
   ]
  },
  {
   "cell_type": "code",
   "execution_count": 12,
   "metadata": {},
   "outputs": [
    {
     "data": {
      "text/plain": [
       "Powellhurst-Gilbert     6\n",
       "Old Town/Chinatown      6\n",
       "Downtown                5\n",
       "Lents                   4\n",
       "Buckman West            4\n",
       "Montavilla              3\n",
       "Parkrose                3\n",
       "Arbor Lodge             3\n",
       "Madison South           3\n",
       "Argay                   2\n",
       "Overlook                2\n",
       "Hazelwood               2\n",
       "Piedmont                2\n",
       "Pearl                   2\n",
       "Cully                   2\n",
       "Brentwood-Darlington    2\n",
       "Reed                    1\n",
       "Boise                   1\n",
       "Mt Scott-Arleta         1\n",
       "Northwest Industrial    1\n",
       "Hillsdale               1\n",
       "Multnomah               1\n",
       "Mill Park               1\n",
       "Hayden Island           1\n",
       "Northwest               1\n",
       "South Tabor             1\n",
       "Kerns                   1\n",
       "Concordia               1\n",
       "Glenfair                1\n",
       "Sylvan-Highlands        1\n",
       "Roseway                 1\n",
       "Lloyd                   1\n",
       "Woodland Park           1\n",
       "Woodstock               1\n",
       "Maplewood               1\n",
       "Wilkes                  1\n",
       "Name: neighborhood, dtype: int64"
      ]
     },
     "execution_count": 12,
     "metadata": {},
     "output_type": "execute_result"
    }
   ],
   "source": [
    "#just counting the number of rows for each neighborhood, \n",
    "#this and 11 are very similar in this data set but in principle they are totally different \n",
    "KidnappingAbductiond_df[\"neighborhood\"].value_counts() "
   ]
  },
  {
   "cell_type": "markdown",
   "metadata": {},
   "source": [
    " <H1> Most crime hour (by offensecount) <H1>"
   ]
  },
  {
   "cell_type": "code",
   "execution_count": 15,
   "metadata": {},
   "outputs": [
    {
     "data": {
      "text/plain": [
       "<pandas.core.groupby.generic.DataFrameGroupBy object at 0x7f7bbc838b20>"
      ]
     },
     "execution_count": 15,
     "metadata": {},
     "output_type": "execute_result"
    }
   ],
   "source": [
    "#We don't have a column for this, so we need to create a column by grouping attributes toghether \n",
    "df.groupby(pd.Grouper(key = \"occurdatetime\", freq =\"1h\"))\n",
    "#so that return a groupby object, we always have to do aggregation to see anything intersting out of it "
   ]
  },
  {
   "cell_type": "code",
   "execution_count": 21,
   "metadata": {},
   "outputs": [
    {
     "data": {
      "text/plain": [
       "occurdatetime\n",
       "2017-06-17 19:00:00    42\n",
       "2017-09-01 12:00:00    25\n",
       "2017-02-14 12:00:00    24\n",
       "2017-10-29 22:00:00    22\n",
       "2017-05-25 20:00:00    22\n",
       "                       ..\n",
       "2004-07-24 15:00:00     0\n",
       "2004-07-24 16:00:00     0\n",
       "2004-07-24 17:00:00     0\n",
       "2004-07-24 18:00:00     0\n",
       "1998-11-08 15:00:00     0\n",
       "Name: offensecount, Length: 335680, dtype: int64"
      ]
     },
     "execution_count": 21,
     "metadata": {},
     "output_type": "execute_result"
    }
   ],
   "source": [
    "df.groupby(pd.Grouper(key = \"occurdatetime\", freq = \"1h\")).count()[\"offensecount\"].sort_values(ascending = False)"
   ]
  },
  {
   "cell_type": "code",
   "execution_count": 20,
   "metadata": {},
   "outputs": [
    {
     "data": {
      "text/plain": [
       "occurdatetime\n",
       "2017-06-17 19:00:00    43\n",
       "2017-09-01 12:00:00    25\n",
       "2017-01-01 01:00:00    25\n",
       "2017-02-14 12:00:00    24\n",
       "2017-02-24 22:00:00    23\n",
       "                       ..\n",
       "2004-07-24 15:00:00     0\n",
       "2004-07-24 16:00:00     0\n",
       "2004-07-24 17:00:00     0\n",
       "2004-07-24 18:00:00     0\n",
       "1998-11-08 15:00:00     0\n",
       "Name: offensecount, Length: 335680, dtype: int64"
      ]
     },
     "execution_count": 20,
     "metadata": {},
     "output_type": "execute_result"
    }
   ],
   "source": [
    "df.groupby(pd.Grouper(key = \"occurdatetime\", freq = \"1h\"))[\"offensecount\"].sum().sort_values(ascending = False)"
   ]
  },
  {
   "cell_type": "code",
   "execution_count": 23,
   "metadata": {},
   "outputs": [
    {
     "data": {
      "text/plain": [
       "occurdatetime\n",
       "22    3450\n",
       "12    3436\n",
       "18    3351\n",
       "17    3328\n",
       "20    3192\n",
       "21    3109\n",
       "19    3070\n",
       "23    2924\n",
       "16    2862\n",
       "15    2742\n",
       "14    2468\n",
       "13    2411\n",
       "8     2297\n",
       "11    2203\n",
       "10    2145\n",
       "9     2103\n",
       "1     1930\n",
       "2     1633\n",
       "7     1584\n",
       "3     1307\n",
       "6     1175\n",
       "4     1142\n",
       "5     1017\n",
       "Name: offensecount, dtype: int64"
      ]
     },
     "execution_count": 23,
     "metadata": {},
     "output_type": "execute_result"
    }
   ],
   "source": [
    "#most likely above does not make a lot of practical sense, it is better to look for most dangerous time of the day \n",
    "\n",
    "df.groupby(df[\"occurdatetime\"].dt.hour)[\"offensecount\"].sum().sort_values(ascending =False)\n",
    "\n",
    "#please note we missed the data between 0 to 1 and also between 23 to 24 "
   ]
  },
  {
   "cell_type": "code",
   "execution_count": null,
   "metadata": {},
   "outputs": [],
   "source": [
    "df.groupby(df[\"occurdatetime\"].dt.hour)[\"offensecount\"].sum().plot()"
   ]
  }
 ],
 "metadata": {
  "kernelspec": {
   "display_name": "pandas_pipenv",
   "language": "python",
   "name": "python3"
  },
  "language_info": {
   "codemirror_mode": {
    "name": "ipython",
    "version": 3
   },
   "file_extension": ".py",
   "mimetype": "text/x-python",
   "name": "python",
   "nbconvert_exporter": "python",
   "pygments_lexer": "ipython3",
   "version": "3.8.1"
  }
 },
 "nbformat": 4,
 "nbformat_minor": 4
}
